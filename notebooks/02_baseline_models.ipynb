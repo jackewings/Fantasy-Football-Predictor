{
 "cells": [
  {
   "cell_type": "code",
   "execution_count": 113,
   "id": "b6d2421d-f3ff-4ea8-99ec-abe31f61499d",
   "metadata": {},
   "outputs": [],
   "source": [
    "# Importing necessary libraries\n",
    "import pandas as pd\n",
    "import numpy as np\n",
    "import matplotlib.pyplot as plt\n",
    "import seaborn as sns\n",
    "from sklearn.pipeline import Pipeline\n",
    "from sklearn.linear_model import LinearRegression as LR, Lasso, Ridge\n",
    "from sklearn.ensemble import RandomForestRegressor as RFR\n",
    "from xgboost import XGBRegressor as XGBR\n",
    "from scipy.stats import loguniform, randint\n",
    "from sklearn.preprocessing import StandardScaler\n",
    "from sklearn.model_selection import train_test_split, RandomizedSearchCV, KFold\n",
    "import joblib"
   ]
  },
  {
   "cell_type": "code",
   "execution_count": 114,
   "id": "46b2aa19-ecb9-4131-a6e3-9442803fe389",
   "metadata": {},
   "outputs": [],
   "source": [
    "# Defining a function to use for finding the most appropriate model for each dataset\n",
    "def run_search(X_train, y_train, name):\n",
    "    '''\n",
    "    Runs RandomizedSearchCV on a specified pipeline and parameter distribution, and returns \n",
    "    info about the model with the lowest CV RMSE\n",
    "    '''\n",
    "    param_dist = [\n",
    "        {\n",
    "            'reg': [LR()]\n",
    "        },\n",
    "        {\n",
    "            'reg': [Lasso(max_iter = 5000)],\n",
    "            'reg__alpha': [.001, .01, .1, 1, 5, 10, 20, 30, 40, 50, 60, 70, 80, 90, 100]\n",
    "        },\n",
    "        {\n",
    "            'reg': [Ridge(max_iter = 5000)],\n",
    "            'reg__alpha': [.001, .01, .1, 1, 5, 10, 20, 30, 40, 50, 60, 70, 80, 90, 100]\n",
    "        },\n",
    "        {\n",
    "            'reg': [RFR(random_state = 23)],\n",
    "            'reg__max_depth': [None] + list(np.arange(3, 31, 3)),\n",
    "            'reg__n_estimators': np.arange(100, 1001, 100),\n",
    "            'reg__min_samples_split': randint(2, 15),\n",
    "            'reg__min_samples_leaf': randint(1, 10),\n",
    "            'reg__max_features': ['sqrt', 'log', .5, .75]\n",
    "        },\n",
    "        {\n",
    "            'reg': [XGBR(random_state = 23)],\n",
    "            'reg__max_depth': np.arange(2, 15),\n",
    "            'reg__n_estimators': np.arange(100, 1001, 100),\n",
    "            'reg__learning_rate': loguniform(.1, .3),\n",
    "            'reg__subsample': [.6, .8, 1.0],\n",
    "            'reg__colsample_bytree': [.6, .8, 1.0],\n",
    "            'reg__gamma': [0, 1, 5],\n",
    "            'reg__reg_alpha': loguniform(1e-3, 10),\n",
    "            'reg__reg_lambda': loguniform(1e-3, 10),\n",
    "            'reg__min_child_weight': np.arange(1, 10),\n",
    "            'reg__max_delta_step': [0, 1, 5],\n",
    "            'reg__learning_rate': loguniform(0.01, 0.3)\n",
    "        }\n",
    "    ]\n",
    "\n",
    "    pipe = Pipeline([\n",
    "        ('scaler', StandardScaler()),\n",
    "        ('reg', LR())\n",
    "    ])\n",
    "\n",
    "    cv = KFold(n_splits = 5, shuffle = True, random_state = 23)\n",
    "\n",
    "    search = RandomizedSearchCV(pipe, param_dist, scoring = 'neg_root_mean_squared_error', cv = cv, n_iter = 50, \n",
    "                            n_jobs = -1, verbose = 1, random_state = 23)\n",
    "\n",
    "    search.fit(X_train, y_train)\n",
    "\n",
    "    best_params = search.best_params_\n",
    "    best_score = -search.best_score_\n",
    "    best_model = search.best_estimator_\n",
    "\n",
    "    print(f'\\n{name} Best Parameters: {best_params}')\n",
    "    print(f'\\n{name} Best RMSE: {best_score:.3f}')\n",
    "    print(f'\\n{name} Best Model: {best_model}')\n",
    "\n",
    "    return search, best_model"
   ]
  },
  {
   "cell_type": "code",
   "execution_count": 115,
   "id": "c1567c1b-74b7-44b1-b848-f37cc4ef0b48",
   "metadata": {},
   "outputs": [],
   "source": [
    "# Ensuring that all columns and rows are displayed\n",
    "pd.set_option('display.max_columns', None)\n",
    "pd.set_option('display.max_rows', None)"
   ]
  },
  {
   "cell_type": "code",
   "execution_count": 116,
   "id": "92f0ec90-25f8-4e29-8fe7-047f015008a4",
   "metadata": {},
   "outputs": [],
   "source": [
    "# Loading in the cleaned CSV files for each position\n",
    "qb = pd.read_csv('../data/processed/qb_per_game_filtered.csv')\n",
    "rb = pd.read_csv('../data/processed/rb_per_game_filtered.csv')\n",
    "wr = pd.read_csv('../data/processed/wr_per_game_filtered.csv')\n",
    "te = pd.read_csv('../data/processed/te_per_game_filtered.csv')"
   ]
  },
  {
   "cell_type": "code",
   "execution_count": 117,
   "id": "2ff50114-929f-4e54-a354-ea0a425a7781",
   "metadata": {
    "scrolled": true
   },
   "outputs": [
    {
     "name": "stdout",
     "output_type": "stream",
     "text": [
      "<class 'pandas.core.frame.DataFrame'>\n",
      "Index: 201 entries, 18 to 85\n",
      "Data columns (total 20 columns):\n",
      " #   Column                          Non-Null Count  Dtype  \n",
      "---  ------                          --------------  -----  \n",
      " 0   years_of_experience             201 non-null    int64  \n",
      " 1   new_team_next_year              201 non-null    int64  \n",
      " 2   games                           201 non-null    int64  \n",
      " 3   completions_per_game            201 non-null    float64\n",
      " 4   attempts_per_game               201 non-null    float64\n",
      " 5   passing_yards_per_game          201 non-null    float64\n",
      " 6   passing_tds_per_game            201 non-null    float64\n",
      " 7   passing_interceptions_per_game  201 non-null    float64\n",
      " 8   sacks_suffered_per_game         201 non-null    float64\n",
      " 9   sack_fumbles_per_game           201 non-null    float64\n",
      " 10  passing_first_downs_per_game    201 non-null    float64\n",
      " 11  passing_epa_per_game            201 non-null    float64\n",
      " 12  passing_cpoe_per_game           201 non-null    float64\n",
      " 13  pacr_per_game                   201 non-null    float64\n",
      " 14  carries_per_game                201 non-null    float64\n",
      " 15  rushing_yards_per_game          201 non-null    float64\n",
      " 16  rushing_tds_per_game            201 non-null    float64\n",
      " 17  rushing_fumbles_per_game        201 non-null    float64\n",
      " 18  rushing_first_downs_per_game    201 non-null    float64\n",
      " 19  rushing_epa_per_game            201 non-null    float64\n",
      "dtypes: float64(17), int64(3)\n",
      "memory usage: 33.0 KB\n"
     ]
    }
   ],
   "source": [
    "# Splitting the data into train and test sets\n",
    "train_qb = qb[qb['season'] != 2024]\n",
    "\n",
    "test_qb = qb[qb['season'] == 2024].drop(columns = 'fantasy_points_ppr_per_game_next_year')\n",
    "\n",
    "# Filtering to create the features and the target data \n",
    "X_qb = train_qb.drop(columns = ['fantasy_points_ppr_per_game_next_year', 'fantasy_points_ppr_per_game',\n",
    "                                      'player_id', 'player_display_name', 'position', 'season', 'recent_team'])\n",
    "\n",
    "y_qb = train_qb['fantasy_points_ppr_per_game_next_year']\n",
    "\n",
    "# Splitting the initial train data into train and validation sets \n",
    "X_train_qb, X_val_qb, y_train_qb, y_val_qb = train_test_split(X_qb, y_qb, test_size = .2, random_state = 23)\n",
    "\n",
    "X_train_qb.info()"
   ]
  },
  {
   "cell_type": "code",
   "execution_count": 118,
   "id": "ca5330ea-be57-49a6-9e12-1901f9c0ff3e",
   "metadata": {},
   "outputs": [
    {
     "name": "stdout",
     "output_type": "stream",
     "text": [
      "Fitting 5 folds for each of 50 candidates, totalling 250 fits\n",
      "\n",
      "QB Best Parameters: {'reg': Ridge(max_iter=5000), 'reg__alpha': 80}\n",
      "\n",
      "QB Best RMSE: 3.690\n",
      "\n",
      "QB Best Model: Pipeline(steps=[('scaler', StandardScaler()),\n",
      "                ('reg', Ridge(alpha=80, max_iter=5000))])\n"
     ]
    }
   ],
   "source": [
    "# Running the function to return the model with the lowest CV RMSE\n",
    "search_qb, best_model_qb = run_search(X_train_qb, y_train_qb, 'QB')"
   ]
  },
  {
   "cell_type": "code",
   "execution_count": 119,
   "id": "84d7659a-e5d0-4cf2-9dfe-ccd0a5552243",
   "metadata": {
    "scrolled": true
   },
   "outputs": [
    {
     "name": "stdout",
     "output_type": "stream",
     "text": [
      "<class 'pandas.core.frame.DataFrame'>\n",
      "Index: 505 entries, 425 to 644\n",
      "Data columns (total 22 columns):\n",
      " #   Column                                Non-Null Count  Dtype  \n",
      "---  ------                                --------------  -----  \n",
      " 0   years_of_experience                   505 non-null    int64  \n",
      " 1   new_team_next_year                    505 non-null    int64  \n",
      " 2   games                                 505 non-null    int64  \n",
      " 3   carries_per_game                      505 non-null    float64\n",
      " 4   rushing_yards_per_game                505 non-null    float64\n",
      " 5   rushing_tds_per_game                  505 non-null    float64\n",
      " 6   rushing_fumbles_per_game              505 non-null    float64\n",
      " 7   rushing_first_downs_per_game          505 non-null    float64\n",
      " 8   rushing_epa_per_game                  505 non-null    float64\n",
      " 9   receptions_per_game                   505 non-null    float64\n",
      " 10  targets_per_game                      505 non-null    float64\n",
      " 11  receiving_yards_per_game              505 non-null    float64\n",
      " 12  receiving_tds_per_game                505 non-null    float64\n",
      " 13  receiving_fumbles_per_game            505 non-null    float64\n",
      " 14  receiving_air_yards_per_game          505 non-null    float64\n",
      " 15  receiving_yards_after_catch_per_game  505 non-null    float64\n",
      " 16  receiving_first_downs_per_game        505 non-null    float64\n",
      " 17  receiving_epa_per_game                505 non-null    float64\n",
      " 18  racr                                  505 non-null    float64\n",
      " 19  target_share                          505 non-null    float64\n",
      " 20  air_yards_share                       505 non-null    float64\n",
      " 21  wopr                                  505 non-null    float64\n",
      "dtypes: float64(19), int64(3)\n",
      "memory usage: 90.7 KB\n"
     ]
    }
   ],
   "source": [
    "# Splitting the data into train and test sets\n",
    "train_rb = rb[rb['season'] != 2024]\n",
    "\n",
    "test_rb = rb[rb['season'] == 2024].drop(columns = 'fantasy_points_ppr_per_game_next_year')\n",
    "\n",
    "# Filtering to create the features and target data\n",
    "X_rb = train_rb.drop(columns = ['fantasy_points_ppr_per_game_next_year', 'fantasy_points_ppr_per_game',\n",
    "                                      'player_id', 'player_display_name', 'position', 'season', 'recent_team'])\n",
    "\n",
    "y_rb = train_rb['fantasy_points_ppr_per_game_next_year']\n",
    "\n",
    "# Splitting the initial train data into train and validation sets \n",
    "X_train_rb, X_val_rb, y_train_rb, y_val_rb = train_test_split(X_rb, y_rb, test_size = .2, random_state = 23)\n",
    "\n",
    "X_train_rb.info()"
   ]
  },
  {
   "cell_type": "code",
   "execution_count": 120,
   "id": "7adc7ce6-16d9-41df-b66a-7f8667a26eef",
   "metadata": {},
   "outputs": [
    {
     "name": "stdout",
     "output_type": "stream",
     "text": [
      "Fitting 5 folds for each of 50 candidates, totalling 250 fits\n",
      "\n",
      "RB Best Parameters: {'reg': Ridge(max_iter=5000), 'reg__alpha': 80}\n",
      "\n",
      "RB Best RMSE: 3.963\n",
      "\n",
      "RB Best Model: Pipeline(steps=[('scaler', StandardScaler()),\n",
      "                ('reg', Ridge(alpha=80, max_iter=5000))])\n"
     ]
    }
   ],
   "source": [
    "# Running the function to return the model with the lowest CV RMSE\n",
    "search_rb, best_model_rb = run_search(X_train_rb, y_train_rb, 'RB')"
   ]
  },
  {
   "cell_type": "code",
   "execution_count": 121,
   "id": "80a178b7-b3e9-4673-b4c3-95f9d29a5069",
   "metadata": {
    "scrolled": true
   },
   "outputs": [
    {
     "name": "stdout",
     "output_type": "stream",
     "text": [
      "<class 'pandas.core.frame.DataFrame'>\n",
      "Index: 833 entries, 76 to 617\n",
      "Data columns (total 21 columns):\n",
      " #   Column                                Non-Null Count  Dtype  \n",
      "---  ------                                --------------  -----  \n",
      " 0   years_of_experience                   833 non-null    int64  \n",
      " 1   new_team_next_year                    833 non-null    int64  \n",
      " 2   games                                 833 non-null    int64  \n",
      " 3   receptions_per_game                   833 non-null    float64\n",
      " 4   targets_per_game                      833 non-null    float64\n",
      " 5   receiving_yards_per_game              833 non-null    float64\n",
      " 6   receiving_tds_per_game                833 non-null    float64\n",
      " 7   receiving_fumbles_per_game            833 non-null    float64\n",
      " 8   receiving_air_yards_per_game          833 non-null    float64\n",
      " 9   receiving_yards_after_catch_per_game  833 non-null    float64\n",
      " 10  receiving_first_downs_per_game        833 non-null    float64\n",
      " 11  receiving_epa_per_game                833 non-null    float64\n",
      " 12  racr                                  833 non-null    float64\n",
      " 13  target_share                          833 non-null    float64\n",
      " 14  air_yards_share                       833 non-null    float64\n",
      " 15  wopr                                  833 non-null    float64\n",
      " 16  carries_per_game                      833 non-null    float64\n",
      " 17  rushing_yards_per_game                833 non-null    float64\n",
      " 18  rushing_tds_per_game                  833 non-null    float64\n",
      " 19  rushing_fumbles_per_game              833 non-null    float64\n",
      " 20  rushing_first_downs_per_game          833 non-null    float64\n",
      "dtypes: float64(18), int64(3)\n",
      "memory usage: 143.2 KB\n"
     ]
    }
   ],
   "source": [
    "# Splitting the data into train and test sets\n",
    "train_wr = wr[wr['season'] != 2024]\n",
    "\n",
    "test_wr = wr[wr['season'] == 2024].drop(columns = 'fantasy_points_ppr_per_game_next_year')\n",
    "\n",
    "# Filtering to create the features and target data\n",
    "X_wr = train_wr.drop(columns = ['fantasy_points_ppr_per_game_next_year', 'fantasy_points_ppr_per_game',\n",
    "                                      'player_id', 'player_display_name', 'position', 'season', 'recent_team'])\n",
    "\n",
    "y_wr = train_wr['fantasy_points_ppr_per_game_next_year']\n",
    "\n",
    "# Splitting the initial train data into train and validation sets \n",
    "X_train_wr, X_val_wr, y_train_wr, y_val_wr = train_test_split(X_wr, y_wr, test_size = .2, random_state = 23)\n",
    "\n",
    "X_train_wr.info()"
   ]
  },
  {
   "cell_type": "code",
   "execution_count": 122,
   "id": "6cff7b37-1989-4f10-9e38-ab94fa8eff09",
   "metadata": {},
   "outputs": [
    {
     "name": "stdout",
     "output_type": "stream",
     "text": [
      "Fitting 5 folds for each of 50 candidates, totalling 250 fits\n",
      "\n",
      "WR Best Parameters: {'reg': Ridge(max_iter=5000), 'reg__alpha': 50}\n",
      "\n",
      "WR Best RMSE: 3.291\n",
      "\n",
      "WR Best Model: Pipeline(steps=[('scaler', StandardScaler()),\n",
      "                ('reg', Ridge(alpha=50, max_iter=5000))])\n"
     ]
    }
   ],
   "source": [
    "# Running the function to return the model with the lowest CV RMSE\n",
    "search_wr, best_model_wr = run_search(X_train_wr, y_train_wr, 'WR')"
   ]
  },
  {
   "cell_type": "code",
   "execution_count": 123,
   "id": "5e03e4fe-74b2-4765-a28c-c1fea7ca1b9b",
   "metadata": {
    "scrolled": true
   },
   "outputs": [
    {
     "name": "stdout",
     "output_type": "stream",
     "text": [
      "<class 'pandas.core.frame.DataFrame'>\n",
      "Index: 424 entries, 287 to 40\n",
      "Data columns (total 16 columns):\n",
      " #   Column                                Non-Null Count  Dtype  \n",
      "---  ------                                --------------  -----  \n",
      " 0   years_of_experience                   424 non-null    int64  \n",
      " 1   new_team_next_year                    424 non-null    int64  \n",
      " 2   games                                 424 non-null    int64  \n",
      " 3   racr                                  424 non-null    float64\n",
      " 4   target_share                          424 non-null    float64\n",
      " 5   air_yards_share                       424 non-null    float64\n",
      " 6   wopr                                  424 non-null    float64\n",
      " 7   receptions_per_game                   424 non-null    float64\n",
      " 8   targets_per_game                      424 non-null    float64\n",
      " 9   receiving_yards_per_game              424 non-null    float64\n",
      " 10  receiving_tds_per_game                424 non-null    float64\n",
      " 11  receiving_fumbles_per_game            424 non-null    float64\n",
      " 12  receiving_air_yards_per_game          424 non-null    float64\n",
      " 13  receiving_yards_after_catch_per_game  424 non-null    float64\n",
      " 14  receiving_first_downs_per_game        424 non-null    float64\n",
      " 15  receiving_epa_per_game                424 non-null    float64\n",
      "dtypes: float64(13), int64(3)\n",
      "memory usage: 56.3 KB\n"
     ]
    }
   ],
   "source": [
    "# Splitting into train and test sets\n",
    "train_te = te[te['season'] != 2024]\n",
    "\n",
    "test_te = te[te['season'] == 2024].drop(columns = 'fantasy_points_ppr_per_game_next_year')\n",
    "\n",
    "# Filtering to create the features and the test data\n",
    "X_te = train_te.drop(columns = ['fantasy_points_ppr_per_game_next_year', 'fantasy_points_ppr_per_game',\n",
    "                                      'player_id', 'player_display_name', 'position', 'season', 'recent_team'])\n",
    "\n",
    "y_te = train_te['fantasy_points_ppr_per_game_next_year']\n",
    "\n",
    "# Splitting the initial train data into train and validation sets \n",
    "X_train_te, X_val_te, y_train_te, y_val_te = train_test_split(X_te, y_te, test_size = .2, random_state = 23)\n",
    "\n",
    "X_train_te.info()"
   ]
  },
  {
   "cell_type": "code",
   "execution_count": 124,
   "id": "780b85ce-0a3d-4500-9827-f4e60ea614a8",
   "metadata": {},
   "outputs": [
    {
     "name": "stdout",
     "output_type": "stream",
     "text": [
      "Fitting 5 folds for each of 50 candidates, totalling 250 fits\n",
      "\n",
      "TE Best Parameters: {'reg': Lasso(max_iter=5000), 'reg__alpha': 0.1}\n",
      "\n",
      "TE Best RMSE: 2.650\n",
      "\n",
      "TE Best Model: Pipeline(steps=[('scaler', StandardScaler()),\n",
      "                ('reg', Lasso(alpha=0.1, max_iter=5000))])\n"
     ]
    }
   ],
   "source": [
    "# Running the function to return the model with the lowest CV RMSE\n",
    "search_te, best_model_te = run_search(X_train_te, y_train_te, 'TE')"
   ]
  },
  {
   "cell_type": "code",
   "execution_count": 125,
   "id": "71b2d271-62c3-407b-a465-f69799db9b87",
   "metadata": {},
   "outputs": [
    {
     "data": {
      "text/plain": [
       "['../data/processed/test_te.pkl']"
      ]
     },
     "execution_count": 125,
     "metadata": {},
     "output_type": "execute_result"
    }
   ],
   "source": [
    "# Saving every model pipeline, validation set, and test set for each position into pkl files\n",
    "joblib.dump(best_model_qb, '../models/best_model_qb.pkl')\n",
    "joblib.dump(best_model_rb, '../models/best_model_rb.pkl')\n",
    "joblib.dump(best_model_wr, '../models/best_model_wr.pkl')\n",
    "joblib.dump(best_model_te, '../models/best_model_te.pkl')\n",
    "\n",
    "joblib.dump(X_val_qb, '../data/processed/X_val_qb.pkl')\n",
    "joblib.dump(X_val_rb, '../data/processed/X_val_rb.pkl')\n",
    "joblib.dump(X_val_wr, '../data/processed/X_val_wr.pkl')\n",
    "joblib.dump(X_val_te, '../data/processed/X_val_te.pkl')\n",
    "\n",
    "joblib.dump(y_val_qb, '../data/processed/y_val_qb.pkl')\n",
    "joblib.dump(y_val_rb, '../data/processed/y_val_rb.pkl')\n",
    "joblib.dump(y_val_wr, '../data/processed/y_val_wr.pkl')\n",
    "joblib.dump(y_val_te, '../data/processed/y_val_te.pkl')\n",
    "\n",
    "joblib.dump(test_qb, '../data/processed/test_qb.pkl')\n",
    "joblib.dump(test_rb, '../data/processed/test_rb.pkl')\n",
    "joblib.dump(test_wr, '../data/processed/test_wr.pkl')\n",
    "joblib.dump(test_te, '../data/processed/test_te.pkl')"
   ]
  }
 ],
 "metadata": {
  "kernelspec": {
   "display_name": "Python 3",
   "language": "python",
   "name": "python3"
  },
  "language_info": {
   "codemirror_mode": {
    "name": "ipython",
    "version": 3
   },
   "file_extension": ".py",
   "mimetype": "text/x-python",
   "name": "python",
   "nbconvert_exporter": "python",
   "pygments_lexer": "ipython3",
   "version": "3.12.7"
  }
 },
 "nbformat": 4,
 "nbformat_minor": 5
}
